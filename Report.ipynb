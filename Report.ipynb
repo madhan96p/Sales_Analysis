{
 "cells": [
  {
   "cell_type": "markdown",
   "metadata": {},
   "source": [
    "<div>\n",
    "    <center>\n",
    "        <h4><strong>Sales Analysis Report for AAL</strong></h4>\n",
    "        <h6><em>Australian Apparel Limited</em></h6>\n",
    "    </center>\n",
    "</div>\n"
   ]
  },
  {
   "cell_type": "markdown",
   "metadata": {},
   "source": [
    "### **Explanation of Sections:**"
   ]
  },
  {
   "cell_type": "markdown",
   "metadata": {},
   "source": [
    "\n",
    "1. **Introduction**: Provides context to the sales analysis and objectives.\n",
    "2. **Data Wrangling**: Discusses data preparation steps, such as handling missing values and normalizing data.\n",
    "3. **Descriptive Statistics**: Analyzes key metrics such as mean, median, mode, and standard deviation for `Sales` and `Units`.\n",
    "4. **Data Analysis**: Analyzes group-wise performance, weekly and monthly trends.\n",
    "5. **Data Visualization**: Visualizes sales trends and insights using various charts.\n",
    "6. **Recommendations**: Based on the analysis, recommends actionable steps for the business."
   ]
  },
  {
   "cell_type": "markdown",
   "metadata": {},
   "source": [
    "## **State abbreviations:**\n"
   ]
  },
  {
   "cell_type": "markdown",
   "metadata": {},
   "source": [
    "- **WA** - Western Australia\n",
    "- **NT** - Northern Territory\n",
    "- **SA** - South Australia\n",
    "- **VIC** - Victoria\n",
    "- **QLD** - Queensland\n",
    "- **NSW** - New South Wales\n",
    "- **TAS** - Tasmania"
   ]
  },
  {
   "cell_type": "markdown",
   "metadata": {},
   "source": [
    "## **Introduction** "
   ]
  },
  {
   "cell_type": "markdown",
   "metadata": {},
   "source": [
    "This report analyzes AAL's sales data for Q4 2020 to support expansion plans. It identifies high-performing states, underperforming demographics, and optimal times for sales, offering data-driven recommendations.\n",
    "\n",
    "---"
   ]
  },
  {
   "cell_type": "markdown",
   "metadata": {},
   "source": [
    "## **Data Wrangling** "
   ]
  },
  {
   "cell_type": "markdown",
   "metadata": {},
   "source": [
    "### *Summary of Cleaning Steps*\n",
    "- Missing values were handled by filling with mean values (if any).\n",
    "- Data normalization was applied to bring all values to a similar scale.\n",
    "\n",
    "```python\n",
    "# Data Wrangling Code\n",
    "# Importing libraries\n",
    "import pandas as pd\n",
    "import numpy as np\n",
    "from sklearn.preprocessing import MinMaxScaler\n",
    "\n",
    "# Load data\n",
    "data = pd.read_csv('AusApparalSales4thQrt2020.csv')\n",
    "\n",
    "# Check for missing values\n",
    "print(data.isna().sum())\n",
    "\n",
    "# Example normalization (if needed)\n",
    "scaler = MinMaxScaler()\n",
    "data[['Sales', 'Unit']] = scaler.fit_transform(data[['Sales', 'Unit']])\n",
    "```\n",
    "\n",
    "---"
   ]
  },
  {
   "cell_type": "markdown",
   "metadata": {},
   "source": [
    "## **Descriptive Statistics**"
   ]
  },
  {
   "cell_type": "markdown",
   "metadata": {},
   "source": [
    "### *Key Metrics for Sales and Units*\n",
    "The table below summarizes the descriptive statistics:\n",
    "\n",
    "| Metric                 | Sales     | Unit      |\n",
    "|------------------------|-----------|-----------|\n",
    "| **Mean**               | 0.254     | 0.254     |\n",
    "| **Median**             | 0.190     | 0.190     |\n",
    "| **Mode**               | 0.111     | 0.111     |\n",
    "| **Standard Deviation** | 0.204     | 0.204     |\n",
    "\n",
    "---"
   ]
  },
  {
   "cell_type": "markdown",
   "metadata": {},
   "source": [
    "\n",
    "### *Box Plot for Sales and Units*\n",
    "The box plot below illustrates variability in sales and units:\n",
    "\n",
    "```python\n",
    "# Box Plot for Sales and Units\n",
    "import seaborn as sns\n",
    "import matplotlib.pyplot as plt\n",
    "\n",
    "plt.figure(figsize=(10, 6))\n",
    "sns.boxplot(data=data[['Sales', 'Unit']])\n",
    "plt.title('Box Plot for Sales and Units')\n",
    "plt.ylabel('Value')\n",
    "plt.show()\n",
    "```\n",
    "\n",
    "---"
   ]
  },
  {
   "cell_type": "markdown",
   "metadata": {},
   "source": [
    "## **Data Visualization**"
   ]
  },
  {
   "cell_type": "markdown",
   "metadata": {},
   "source": [
    "### *Key Dashboards* \n",
    "1. **State-wise Sales Analysis for Different Groups**  \n",
    "2. **Group-wise Sales Analysis Across States**  \n",
    "3. **Time-of-the-Day Sales Trends**  \n",
    "4. **Weekly and Monthly Sales Trends**\n",
    "\n",
    "```python\n",
    "# Example Visualization Code (3x2 Layout)\n",
    "fig, axes = plt.subplots(3, 2, figsize=(16, 18))\n",
    "\n",
    "# State-wise Sales\n",
    "state_group_sales = data.groupby(['State', 'Group'])['Sales'].sum().unstack()\n",
    "state_group_sales.plot(kind='bar', stacked=True, ax=axes[0, 0], colormap='viridis')\n",
    "axes[0, 0].set_title('State-wise Sales by Group')\n",
    "\n",
    "# Time-of-the-Day Sales\n",
    "time_sales = data.groupby('Time')['Sales'].sum()\n",
    "sns.barplot(x=time_sales.index, y=time_sales.values, ax=axes[1, 0], palette='plasma')\n",
    "axes[1, 0].set_title('Time-of-the-Day Sales Analysis')\n",
    "\n",
    "# Add other plots similarly\n",
    "plt.tight_layout()\n",
    "plt.show()\n",
    "```\n",
    "\n",
    "---\n"
   ]
  },
  {
   "cell_type": "markdown",
   "metadata": {},
   "source": [
    "## **Recommendations**  "
   ]
  },
  {
   "cell_type": "code",
   "execution_count": null,
   "metadata": {},
   "outputs": [],
   "source": []
  },
  {
   "cell_type": "markdown",
   "metadata": {},
   "source": [
    "*Based on the analysis:*\n",
    "1. **High Revenue States**: Focus on further investments in **Victoria** - Value: 635.97.\n",
    "2. **Underperforming Groups**: Develop targeted promotions for **Seniors** - Value: 473.57.\n",
    "3. **Peak Sales Periods**: Optimize staffing and stock during **Morning** - Value: 645.12.\n",
    "4. **Off-Peak Hours**: Implement offers and promotions to boost sales at **Evening**.\n",
    "\n",
    "---\n"
   ]
  }
 ],
 "metadata": {
  "kernelspec": {
   "display_name": "Python 3",
   "language": "python",
   "name": "python3"
  },
  "language_info": {
   "name": "python",
   "version": "3.13.0"
  }
 },
 "nbformat": 4,
 "nbformat_minor": 2
}
